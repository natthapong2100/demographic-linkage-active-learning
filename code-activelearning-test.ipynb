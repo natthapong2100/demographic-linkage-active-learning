{
 "cells": [
  {
   "cell_type": "code",
   "execution_count": null,
   "id": "5a6ccbf9",
   "metadata": {},
   "outputs": [
    {
     "name": "stdout",
     "output_type": "stream",
     "text": [
      "[[1.         1.         1.         ... 0.25       0.1        0.0078125 ]\n",
      " [1.         1.         1.         ... 0.26315789 0.08333333 0.5       ]\n",
      " [1.         1.         1.         ... 0.26829268 0.         0.02439024]\n",
      " ...\n",
      " [1.         1.         1.         ... 1.         1.         1.        ]\n",
      " [1.         1.         1.         ... 0.51162791 0.22222222 1.        ]\n",
      " [1.         1.         1.         ... 1.         1.         1.        ]]\n",
      "==================================================\n",
      "[0 1 0 ... 1 1 1]\n"
     ]
    }
   ],
   "source": [
    "import numpy as np\n",
    "\n",
    "X = np.load('X_features.npy')\n",
    "y = np.load('y_labels.npy')"
   ]
  },
  {
   "cell_type": "code",
   "execution_count": 3,
   "id": "a0d5047e",
   "metadata": {},
   "outputs": [
    {
     "data": {
      "text/plain": [
       "array([[1.        , 1.        , 1.        , ..., 0.25      , 0.1       ,\n",
       "        0.0078125 ],\n",
       "       [1.        , 1.        , 1.        , ..., 0.26315789, 0.08333333,\n",
       "        0.5       ],\n",
       "       [1.        , 1.        , 1.        , ..., 0.26829268, 0.        ,\n",
       "        0.02439024],\n",
       "       ...,\n",
       "       [1.        , 1.        , 1.        , ..., 1.        , 1.        ,\n",
       "        1.        ],\n",
       "       [1.        , 1.        , 1.        , ..., 0.51162791, 0.22222222,\n",
       "        1.        ],\n",
       "       [1.        , 1.        , 1.        , ..., 1.        , 1.        ,\n",
       "        1.        ]], shape=(4733394, 25))"
      ]
     },
     "execution_count": 3,
     "metadata": {},
     "output_type": "execute_result"
    }
   ],
   "source": [
    "X"
   ]
  },
  {
   "cell_type": "code",
   "execution_count": 4,
   "id": "038d7b61",
   "metadata": {},
   "outputs": [
    {
     "data": {
      "text/plain": [
       "array([0, 1, 0, ..., 1, 1, 1], shape=(4733394,))"
      ]
     },
     "execution_count": 4,
     "metadata": {},
     "output_type": "execute_result"
    }
   ],
   "source": [
    "y"
   ]
  }
 ],
 "metadata": {
  "kernelspec": {
   "display_name": "modal-env",
   "language": "python",
   "name": "python3"
  },
  "language_info": {
   "codemirror_mode": {
    "name": "ipython",
    "version": 3
   },
   "file_extension": ".py",
   "mimetype": "text/x-python",
   "name": "python",
   "nbconvert_exporter": "python",
   "pygments_lexer": "ipython3",
   "version": "3.11.13"
  }
 },
 "nbformat": 4,
 "nbformat_minor": 5
}
